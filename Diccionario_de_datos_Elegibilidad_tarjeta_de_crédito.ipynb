{
  "nbformat": 4,
  "nbformat_minor": 0,
  "metadata": {
    "colab": {
      "provenance": []
    },
    "kernelspec": {
      "name": "python3",
      "display_name": "Python 3"
    },
    "language_info": {
      "name": "python"
    }
  },
  "cells": [
    {
      "cell_type": "markdown",
      "source": [
        "**Descripción de los datos de elegibilidad de la tarjeta de crédito: factores determinantes**\n",
        "\n",
        "El conjunto de datos sobre elegibilidad de tarjetas de crédito: factores determinantes, es una recopilación integral de variables destinadas a comprender los factores que influyen en la elegibilidad de una persona para obtener una tarjeta de crédito. Este conjunto de datos abarca una amplia gama de atributos demográficos, financieros y personales que las instituciones financieras suelen tener en cuenta al evaluar la idoneidad de una persona para obtener un crédito.\n",
        "\n",
        "Cada fila del conjunto de datos representa a un individuo único, identificado por un ID único, con atributos asociados que van desde información demográfica básica, como género y edad, hasta indicadores financieros, como ingresos totales y situación laboral. Además, el conjunto de datos incluye variables relacionadas con la situación familiar, la vivienda, la educación y la ocupación, lo que proporciona una visión integral de los antecedentes y las circunstancias del individuo."
      ],
      "metadata": {
        "id": "g_4pFkOHxai9"
      }
    },
    {
      "cell_type": "markdown",
      "source": [
        "- Descripción de las variables del conjunto de datos:\n",
        "\n",
        "    - ID: Un identificador para cada individuo (cliente).\n",
        "\n",
        "    - Gender: El género del individuo.\n",
        "\n",
        "    - Own_car: Una característica binaria que indica si el individuo posee un automóvil.\n",
        "\n",
        "    - Own_property: Una característica binaria que indica si el individuo posee una propiedad.\n",
        "\n",
        "    - Work_phone: Una característica binaria que indica si el individuo tiene un teléfono de trabajo.\n",
        "\n",
        "    - Phone: Una característica binaria que indica si el individuo tiene un teléfono.\n",
        "\n",
        "    - Email: Una característica binaria que indica si el individuo ha proporcionado una dirección de correo electrónico.\n",
        "\n",
        "    - Unemployed: Una característica binaria que indica si el individuo está desempleado.\n",
        "\n",
        "    - Num_children: El número de hijos que tiene el individuo.\n",
        "\n",
        "    - Num_family: El número total de miembros de la familia.\n",
        "\n",
        "    - Account_length: La duración de la cuenta del individuo en un banco o institución financiera.\n",
        "\n",
        "    - Total_income: El ingreso total del individuo.\n",
        "\n",
        "    - Age: La edad del individuo.\n",
        "\n",
        "    - Years_employed: El número de años que el individuo ha estado empleado.\n",
        "\n",
        "    - Income_type: El tipo de ingresos (por ejemplo, empleado, autónomo, etc.).\n",
        "\n",
        "    - Education_type: El nivel de educación del individuo.\n",
        "\n",
        "    - Family_status: El estado familiar del individuo.\n",
        "\n",
        "    - Housing_type: El tipo de vivienda en la que vive la persona.\n",
        "\n",
        "    - Occupation_type: El tipo de ocupación a la que se dedica el individuo.\n",
        "\n",
        "    - Target: La variable objetivo para la tarea de clasificación, que indica si el individuo es elegible para una tarjeta de crédito o no (por ejemplo, Sí/No, 1/0)."
      ],
      "metadata": {
        "id": "ecOL8plBvb_l"
      }
    },
    {
      "cell_type": "markdown",
      "source": [
        "Fuente:\n",
        "\n",
        "https://www.kaggle.com/datasets/rohit265/credit-card-eligibility-data-determining-factors"
      ],
      "metadata": {
        "id": "zww-Oo8_xR5R"
      }
    }
  ]
}